{
 "cells": [
  {
   "cell_type": "code",
   "execution_count": 3,
   "metadata": {},
   "outputs": [
    {
     "name": "stdout",
     "output_type": "stream",
     "text": [
      "Requirement already satisfied: numpy in c:\\users\\sigur\\appdata\\local\\programs\\python\\python311\\lib\\site-packages (from -r requirements.txt (line 1)) (1.26.1)"
     ]
    },
    {
     "name": "stderr",
     "output_type": "stream",
     "text": [
      "\n",
      "[notice] A new release of pip is available: 23.2.1 -> 23.3.1\n",
      "[notice] To update, run: python.exe -m pip install --upgrade pip\n"
     ]
    },
    {
     "name": "stdout",
     "output_type": "stream",
     "text": [
      "\n",
      "Requirement already satisfied: tensorflow in c:\\users\\sigur\\appdata\\local\\programs\\python\\python311\\lib\\site-packages (from -r requirements.txt (line 2)) (2.14.0)\n",
      "Requirement already satisfied: matplotlib in c:\\users\\sigur\\appdata\\local\\programs\\python\\python311\\lib\\site-packages (from -r requirements.txt (line 3)) (3.8.1)\n",
      "Requirement already satisfied: tensorflow-intel==2.14.0 in c:\\users\\sigur\\appdata\\local\\programs\\python\\python311\\lib\\site-packages (from tensorflow->-r requirements.txt (line 2)) (2.14.0)\n",
      "Requirement already satisfied: absl-py>=1.0.0 in c:\\users\\sigur\\appdata\\local\\programs\\python\\python311\\lib\\site-packages (from tensorflow-intel==2.14.0->tensorflow->-r requirements.txt (line 2)) (2.0.0)\n",
      "Requirement already satisfied: astunparse>=1.6.0 in c:\\users\\sigur\\appdata\\local\\programs\\python\\python311\\lib\\site-packages (from tensorflow-intel==2.14.0->tensorflow->-r requirements.txt (line 2)) (1.6.3)\n",
      "Requirement already satisfied: flatbuffers>=23.5.26 in c:\\users\\sigur\\appdata\\local\\programs\\python\\python311\\lib\\site-packages (from tensorflow-intel==2.14.0->tensorflow->-r requirements.txt (line 2)) (23.5.26)\n",
      "Requirement already satisfied: gast!=0.5.0,!=0.5.1,!=0.5.2,>=0.2.1 in c:\\users\\sigur\\appdata\\local\\programs\\python\\python311\\lib\\site-packages (from tensorflow-intel==2.14.0->tensorflow->-r requirements.txt (line 2)) (0.5.4)\n",
      "Requirement already satisfied: google-pasta>=0.1.1 in c:\\users\\sigur\\appdata\\local\\programs\\python\\python311\\lib\\site-packages (from tensorflow-intel==2.14.0->tensorflow->-r requirements.txt (line 2)) (0.2.0)\n",
      "Requirement already satisfied: h5py>=2.9.0 in c:\\users\\sigur\\appdata\\local\\programs\\python\\python311\\lib\\site-packages (from tensorflow-intel==2.14.0->tensorflow->-r requirements.txt (line 2)) (3.10.0)\n",
      "Requirement already satisfied: libclang>=13.0.0 in c:\\users\\sigur\\appdata\\local\\programs\\python\\python311\\lib\\site-packages (from tensorflow-intel==2.14.0->tensorflow->-r requirements.txt (line 2)) (16.0.6)\n",
      "Requirement already satisfied: ml-dtypes==0.2.0 in c:\\users\\sigur\\appdata\\local\\programs\\python\\python311\\lib\\site-packages (from tensorflow-intel==2.14.0->tensorflow->-r requirements.txt (line 2)) (0.2.0)\n",
      "Requirement already satisfied: opt-einsum>=2.3.2 in c:\\users\\sigur\\appdata\\local\\programs\\python\\python311\\lib\\site-packages (from tensorflow-intel==2.14.0->tensorflow->-r requirements.txt (line 2)) (3.3.0)\n",
      "Requirement already satisfied: packaging in c:\\users\\sigur\\appdata\\local\\programs\\python\\python311\\lib\\site-packages (from tensorflow-intel==2.14.0->tensorflow->-r requirements.txt (line 2)) (23.2)\n",
      "Requirement already satisfied: protobuf!=4.21.0,!=4.21.1,!=4.21.2,!=4.21.3,!=4.21.4,!=4.21.5,<5.0.0dev,>=3.20.3 in c:\\users\\sigur\\appdata\\local\\programs\\python\\python311\\lib\\site-packages (from tensorflow-intel==2.14.0->tensorflow->-r requirements.txt (line 2)) (4.25.0)\n",
      "Requirement already satisfied: setuptools in c:\\users\\sigur\\appdata\\local\\programs\\python\\python311\\lib\\site-packages (from tensorflow-intel==2.14.0->tensorflow->-r requirements.txt (line 2)) (65.5.0)\n",
      "Requirement already satisfied: six>=1.12.0 in c:\\users\\sigur\\appdata\\local\\programs\\python\\python311\\lib\\site-packages (from tensorflow-intel==2.14.0->tensorflow->-r requirements.txt (line 2)) (1.16.0)\n",
      "Requirement already satisfied: termcolor>=1.1.0 in c:\\users\\sigur\\appdata\\local\\programs\\python\\python311\\lib\\site-packages (from tensorflow-intel==2.14.0->tensorflow->-r requirements.txt (line 2)) (2.3.0)\n",
      "Requirement already satisfied: typing-extensions>=3.6.6 in c:\\users\\sigur\\appdata\\local\\programs\\python\\python311\\lib\\site-packages (from tensorflow-intel==2.14.0->tensorflow->-r requirements.txt (line 2)) (4.8.0)\n",
      "Requirement already satisfied: wrapt<1.15,>=1.11.0 in c:\\users\\sigur\\appdata\\local\\programs\\python\\python311\\lib\\site-packages (from tensorflow-intel==2.14.0->tensorflow->-r requirements.txt (line 2)) (1.14.1)\n",
      "Requirement already satisfied: tensorflow-io-gcs-filesystem>=0.23.1 in c:\\users\\sigur\\appdata\\local\\programs\\python\\python311\\lib\\site-packages (from tensorflow-intel==2.14.0->tensorflow->-r requirements.txt (line 2)) (0.31.0)\n",
      "Requirement already satisfied: grpcio<2.0,>=1.24.3 in c:\\users\\sigur\\appdata\\local\\programs\\python\\python311\\lib\\site-packages (from tensorflow-intel==2.14.0->tensorflow->-r requirements.txt (line 2)) (1.59.2)\n",
      "Requirement already satisfied: tensorboard<2.15,>=2.14 in c:\\users\\sigur\\appdata\\local\\programs\\python\\python311\\lib\\site-packages (from tensorflow-intel==2.14.0->tensorflow->-r requirements.txt (line 2)) (2.14.1)\n",
      "Requirement already satisfied: tensorflow-estimator<2.15,>=2.14.0 in c:\\users\\sigur\\appdata\\local\\programs\\python\\python311\\lib\\site-packages (from tensorflow-intel==2.14.0->tensorflow->-r requirements.txt (line 2)) (2.14.0)\n",
      "Requirement already satisfied: keras<2.15,>=2.14.0 in c:\\users\\sigur\\appdata\\local\\programs\\python\\python311\\lib\\site-packages (from tensorflow-intel==2.14.0->tensorflow->-r requirements.txt (line 2)) (2.14.0)\n",
      "Requirement already satisfied: contourpy>=1.0.1 in c:\\users\\sigur\\appdata\\local\\programs\\python\\python311\\lib\\site-packages (from matplotlib->-r requirements.txt (line 3)) (1.2.0)\n",
      "Requirement already satisfied: cycler>=0.10 in c:\\users\\sigur\\appdata\\local\\programs\\python\\python311\\lib\\site-packages (from matplotlib->-r requirements.txt (line 3)) (0.12.1)\n",
      "Requirement already satisfied: fonttools>=4.22.0 in c:\\users\\sigur\\appdata\\local\\programs\\python\\python311\\lib\\site-packages (from matplotlib->-r requirements.txt (line 3)) (4.44.0)\n",
      "Requirement already satisfied: kiwisolver>=1.3.1 in c:\\users\\sigur\\appdata\\local\\programs\\python\\python311\\lib\\site-packages (from matplotlib->-r requirements.txt (line 3)) (1.4.5)\n",
      "Requirement already satisfied: pillow>=8 in c:\\users\\sigur\\appdata\\local\\programs\\python\\python311\\lib\\site-packages (from matplotlib->-r requirements.txt (line 3)) (10.1.0)\n",
      "Requirement already satisfied: pyparsing>=2.3.1 in c:\\users\\sigur\\appdata\\local\\programs\\python\\python311\\lib\\site-packages (from matplotlib->-r requirements.txt (line 3)) (3.1.1)\n",
      "Requirement already satisfied: python-dateutil>=2.7 in c:\\users\\sigur\\appdata\\local\\programs\\python\\python311\\lib\\site-packages (from matplotlib->-r requirements.txt (line 3)) (2.8.2)\n",
      "Requirement already satisfied: wheel<1.0,>=0.23.0 in c:\\users\\sigur\\appdata\\local\\programs\\python\\python311\\lib\\site-packages (from astunparse>=1.6.0->tensorflow-intel==2.14.0->tensorflow->-r requirements.txt (line 2)) (0.41.3)\n",
      "Requirement already satisfied: google-auth<3,>=1.6.3 in c:\\users\\sigur\\appdata\\local\\programs\\python\\python311\\lib\\site-packages (from tensorboard<2.15,>=2.14->tensorflow-intel==2.14.0->tensorflow->-r requirements.txt (line 2)) (2.23.4)\n",
      "Requirement already satisfied: google-auth-oauthlib<1.1,>=0.5 in c:\\users\\sigur\\appdata\\local\\programs\\python\\python311\\lib\\site-packages (from tensorboard<2.15,>=2.14->tensorflow-intel==2.14.0->tensorflow->-r requirements.txt (line 2)) (1.0.0)\n",
      "Requirement already satisfied: markdown>=2.6.8 in c:\\users\\sigur\\appdata\\local\\programs\\python\\python311\\lib\\site-packages (from tensorboard<2.15,>=2.14->tensorflow-intel==2.14.0->tensorflow->-r requirements.txt (line 2)) (3.5.1)\n",
      "Requirement already satisfied: requests<3,>=2.21.0 in c:\\users\\sigur\\appdata\\local\\programs\\python\\python311\\lib\\site-packages (from tensorboard<2.15,>=2.14->tensorflow-intel==2.14.0->tensorflow->-r requirements.txt (line 2)) (2.31.0)\n",
      "Requirement already satisfied: tensorboard-data-server<0.8.0,>=0.7.0 in c:\\users\\sigur\\appdata\\local\\programs\\python\\python311\\lib\\site-packages (from tensorboard<2.15,>=2.14->tensorflow-intel==2.14.0->tensorflow->-r requirements.txt (line 2)) (0.7.2)\n",
      "Requirement already satisfied: werkzeug>=1.0.1 in c:\\users\\sigur\\appdata\\local\\programs\\python\\python311\\lib\\site-packages (from tensorboard<2.15,>=2.14->tensorflow-intel==2.14.0->tensorflow->-r requirements.txt (line 2)) (3.0.1)\n",
      "Requirement already satisfied: cachetools<6.0,>=2.0.0 in c:\\users\\sigur\\appdata\\local\\programs\\python\\python311\\lib\\site-packages (from google-auth<3,>=1.6.3->tensorboard<2.15,>=2.14->tensorflow-intel==2.14.0->tensorflow->-r requirements.txt (line 2)) (5.3.2)\n",
      "Requirement already satisfied: pyasn1-modules>=0.2.1 in c:\\users\\sigur\\appdata\\local\\programs\\python\\python311\\lib\\site-packages (from google-auth<3,>=1.6.3->tensorboard<2.15,>=2.14->tensorflow-intel==2.14.0->tensorflow->-r requirements.txt (line 2)) (0.3.0)\n",
      "Requirement already satisfied: rsa<5,>=3.1.4 in c:\\users\\sigur\\appdata\\local\\programs\\python\\python311\\lib\\site-packages (from google-auth<3,>=1.6.3->tensorboard<2.15,>=2.14->tensorflow-intel==2.14.0->tensorflow->-r requirements.txt (line 2)) (4.9)\n",
      "Requirement already satisfied: requests-oauthlib>=0.7.0 in c:\\users\\sigur\\appdata\\local\\programs\\python\\python311\\lib\\site-packages (from google-auth-oauthlib<1.1,>=0.5->tensorboard<2.15,>=2.14->tensorflow-intel==2.14.0->tensorflow->-r requirements.txt (line 2)) (1.3.1)\n",
      "Requirement already satisfied: charset-normalizer<4,>=2 in c:\\users\\sigur\\appdata\\local\\programs\\python\\python311\\lib\\site-packages (from requests<3,>=2.21.0->tensorboard<2.15,>=2.14->tensorflow-intel==2.14.0->tensorflow->-r requirements.txt (line 2)) (3.3.2)\n",
      "Requirement already satisfied: idna<4,>=2.5 in c:\\users\\sigur\\appdata\\local\\programs\\python\\python311\\lib\\site-packages (from requests<3,>=2.21.0->tensorboard<2.15,>=2.14->tensorflow-intel==2.14.0->tensorflow->-r requirements.txt (line 2)) (3.4)\n",
      "Requirement already satisfied: urllib3<3,>=1.21.1 in c:\\users\\sigur\\appdata\\local\\programs\\python\\python311\\lib\\site-packages (from requests<3,>=2.21.0->tensorboard<2.15,>=2.14->tensorflow-intel==2.14.0->tensorflow->-r requirements.txt (line 2)) (2.0.7)\n",
      "Requirement already satisfied: certifi>=2017.4.17 in c:\\users\\sigur\\appdata\\local\\programs\\python\\python311\\lib\\site-packages (from requests<3,>=2.21.0->tensorboard<2.15,>=2.14->tensorflow-intel==2.14.0->tensorflow->-r requirements.txt (line 2)) (2023.7.22)\n",
      "Requirement already satisfied: MarkupSafe>=2.1.1 in c:\\users\\sigur\\appdata\\local\\programs\\python\\python311\\lib\\site-packages (from werkzeug>=1.0.1->tensorboard<2.15,>=2.14->tensorflow-intel==2.14.0->tensorflow->-r requirements.txt (line 2)) (2.1.3)\n",
      "Requirement already satisfied: pyasn1<0.6.0,>=0.4.6 in c:\\users\\sigur\\appdata\\local\\programs\\python\\python311\\lib\\site-packages (from pyasn1-modules>=0.2.1->google-auth<3,>=1.6.3->tensorboard<2.15,>=2.14->tensorflow-intel==2.14.0->tensorflow->-r requirements.txt (line 2)) (0.5.0)\n",
      "Requirement already satisfied: oauthlib>=3.0.0 in c:\\users\\sigur\\appdata\\local\\programs\\python\\python311\\lib\\site-packages (from requests-oauthlib>=0.7.0->google-auth-oauthlib<1.1,>=0.5->tensorboard<2.15,>=2.14->tensorflow-intel==2.14.0->tensorflow->-r requirements.txt (line 2)) (3.2.2)\n"
     ]
    }
   ],
   "source": [
    "!pip install -r requirements.txt"
   ]
  },
  {
   "cell_type": "code",
   "execution_count": 4,
   "metadata": {},
   "outputs": [],
   "source": [
    "import numpy as np\n",
    "import tensorflow as tf\n",
    "from tensorflow.keras.datasets import mnist\n",
    "from tensorflow.keras.models import Model\n",
    "import matplotlib.pyplot as plt\n",
    "from tensorflow.keras import layers, losses"
   ]
  },
  {
   "cell_type": "code",
   "execution_count": 5,
   "metadata": {},
   "outputs": [],
   "source": [
    "np.random.seed(1)"
   ]
  },
  {
   "cell_type": "markdown",
   "metadata": {},
   "source": [
    "# Load MNIST dataset"
   ]
  },
  {
   "cell_type": "code",
   "execution_count": 6,
   "metadata": {},
   "outputs": [
    {
     "data": {
      "image/png": "[encoded data removed]",
      "text/plain": [
       "<Figure size 640x480 with 1 Axes>"
      ]
     },
     "metadata": {},
     "output_type": "display_data"
    }
   ],
   "source": [
    "(x_train, y_train), (x_test, y_test) = mnist.load_data()\n",
    "x_train = x_train/255.0\n",
    "x_test = x_test/255.0\n",
    "x_train = x_train[..., tf.newaxis]\n",
    "x_test = x_test[..., tf.newaxis]\n",
    "# Plot image data from x_train\n",
    "plt.imshow(x_train[0], cmap = \"gray\")\n",
    "plt.show()"
   ]
  },
  {
   "cell_type": "markdown",
   "metadata": {},
   "source": [
    "# Self supervised learning method"
   ]
  },
  {
   "cell_type": "markdown",
   "metadata": {},
   "source": [
    "## Define autoencoder"
   ]
  },
  {
   "cell_type": "code",
   "execution_count": 7,
   "metadata": {},
   "outputs": [],
   "source": [
    "class Denoise(Model):\n",
    "  def __init__(self):\n",
    "    super(Denoise, self).__init__()\n",
    "    self.encoder = tf.keras.Sequential([\n",
    "      layers.Input(shape=(28, 28, 1)),\n",
    "      layers.Conv2D(16, (3, 3), activation='relu', padding='same', strides=2),\n",
    "      layers.Conv2D(8, (3, 3), activation='relu', padding='same', strides=2)])\n",
    "\n",
    "    self.decoder = tf.keras.Sequential([\n",
    "      layers.Conv2DTranspose(8, kernel_size=3, strides=2, activation='relu', padding='same'),\n",
    "      layers.Conv2DTranspose(16, kernel_size=3, strides=2, activation='relu', padding='same'),\n",
    "      layers.Conv2D(1, kernel_size=(3, 3), activation='sigmoid', padding='same')])\n",
    "\n",
    "  def call(self, x):\n",
    "    encoded = self.encoder(x)\n",
    "    decoded = self.decoder(encoded)\n",
    "    return decoded"
   ]
  },
  {
   "cell_type": "markdown",
   "metadata": {},
   "source": [
    "## Create encoder"
   ]
  },
  {
   "cell_type": "code",
   "execution_count": 8,
   "metadata": {},
   "outputs": [],
   "source": [
    "autoencoder_denoise = Denoise()"
   ]
  },
  {
   "cell_type": "markdown",
   "metadata": {},
   "source": [
    "### Add noise"
   ]
  },
  {
   "cell_type": "code",
   "execution_count": 9,
   "metadata": {},
   "outputs": [],
   "source": [
    "noise_factor = 0.2\n",
    "x_train_noisy = x_train + noise_factor * tf.random.normal(shape=x_train.shape) \n",
    "x_test_noisy = x_test + noise_factor * tf.random.normal(shape=x_test.shape) \n",
    "\n",
    "x_train_noisy = tf.clip_by_value(x_train_noisy, clip_value_min=0., clip_value_max=1.)\n",
    "x_test_noisy = tf.clip_by_value(x_test_noisy, clip_value_min=0., clip_value_max=1.)"
   ]
  },
  {
   "cell_type": "markdown",
   "metadata": {},
   "source": [
    "Train Model"
   ]
  },
  {
   "cell_type": "code",
   "execution_count": 10,
   "metadata": {},
   "outputs": [
    {
     "name": "stdout",
     "output_type": "stream",
     "text": [
      "Epoch 1/10\n",
      "1875/1875 [==============================] - 42s 22ms/step - loss: 0.1138 - val_loss: 0.1140\n",
      "Epoch 2/10\n",
      "1875/1875 [==============================] - 50s 27ms/step - loss: 0.1120 - val_loss: 0.1140\n",
      "Epoch 3/10\n",
      "1875/1875 [==============================] - 44s 24ms/step - loss: 0.1120 - val_loss: 0.1140\n",
      "Epoch 4/10\n",
      "1875/1875 [==============================] - 42s 22ms/step - loss: 0.1120 - val_loss: 0.1140\n",
      "Epoch 5/10\n",
      "1875/1875 [==============================] - 49s 26ms/step - loss: 0.1120 - val_loss: 0.1140\n",
      "Epoch 6/10\n",
      "1875/1875 [==============================] - 44s 24ms/step - loss: 0.1120 - val_loss: 0.1140\n",
      "Epoch 7/10\n",
      "1875/1875 [==============================] - 43s 23ms/step - loss: 0.1120 - val_loss: 0.1140\n",
      "Epoch 8/10\n",
      "1875/1875 [==============================] - 49s 26ms/step - loss: 0.1120 - val_loss: 0.1140\n",
      "Epoch 9/10\n",
      "1875/1875 [==============================] - 47s 25ms/step - loss: 0.1120 - val_loss: 0.1140\n",
      "Epoch 10/10\n",
      "1875/1875 [==============================] - 46s 25ms/step - loss: 0.1120 - val_loss: 0.1140\n"
     ]
    },
    {
     "data": {
      "text/plain": [
       "<keras.src.callbacks.History at 0x23557adf1d0>"
      ]
     },
     "execution_count": 10,
     "metadata": {},
     "output_type": "execute_result"
    }
   ],
   "source": [
    "autoencoder_denoise.compile(optimizer='adam', loss=losses.MeanSquaredError())\n",
    "autoencoder_denoise.fit(x_train_noisy, x_train,\n",
    "                epochs=10,\n",
    "                shuffle=True,\n",
    "                validation_data=(x_test_noisy, x_test))"
   ]
  },
  {
   "cell_type": "markdown",
   "metadata": {},
   "source": [
    "## Classification"
   ]
  },
  {
   "cell_type": "markdown",
   "metadata": {},
   "source": [
    "### Extract encoder"
   ]
  },
  {
   "cell_type": "code",
   "execution_count": 11,
   "metadata": {},
   "outputs": [
    {
     "name": "stdout",
     "output_type": "stream",
     "text": [
      "Epoch 1/10\n",
      "1875/1875 [==============================] - 10s 5ms/step - loss: 0.5994 - accuracy: 0.8120 - val_loss: 0.1708 - val_accuracy: 0.9475\n",
      "Epoch 2/10\n",
      "1875/1875 [==============================] - 9s 5ms/step - loss: 0.2752 - accuracy: 0.9175 - val_loss: 0.1243 - val_accuracy: 0.9608\n",
      "Epoch 3/10\n",
      "1875/1875 [==============================] - 9s 5ms/step - loss: 0.2158 - accuracy: 0.9362 - val_loss: 0.1078 - val_accuracy: 0.9670\n",
      "Epoch 4/10\n",
      "1875/1875 [==============================] - 9s 5ms/step - loss: 0.1815 - accuracy: 0.9462 - val_loss: 0.0891 - val_accuracy: 0.9723\n",
      "Epoch 5/10\n",
      "1875/1875 [==============================] - 9s 5ms/step - loss: 0.1549 - accuracy: 0.9543 - val_loss: 0.0850 - val_accuracy: 0.9728\n",
      "Epoch 6/10\n",
      "1875/1875 [==============================] - 9s 5ms/step - loss: 0.1350 - accuracy: 0.9589 - val_loss: 0.0767 - val_accuracy: 0.9773\n",
      "Epoch 7/10\n",
      "1875/1875 [==============================] - 9s 5ms/step - loss: 0.1211 - accuracy: 0.9635 - val_loss: 0.0664 - val_accuracy: 0.9797\n",
      "Epoch 8/10\n",
      "1875/1875 [==============================] - 9s 5ms/step - loss: 0.1074 - accuracy: 0.9677 - val_loss: 0.0611 - val_accuracy: 0.9825\n",
      "Epoch 9/10\n",
      "1875/1875 [==============================] - 9s 5ms/step - loss: 0.0992 - accuracy: 0.9700 - val_loss: 0.0623 - val_accuracy: 0.9805\n",
      "Epoch 10/10\n",
      "1875/1875 [==============================] - 9s 5ms/step - loss: 0.0890 - accuracy: 0.9726 - val_loss: 0.0625 - val_accuracy: 0.9821\n",
      "313/313 [==============================] - 1s 2ms/step - loss: 0.0625 - accuracy: 0.9821\n",
      "Test Accuracy: 0.9821000099182129\n"
     ]
    }
   ],
   "source": [
    "\n",
    "# Extract the encoder part for later use\n",
    "pretrain_encoder = Denoise().encoder\n",
    "pretrain_encoder.set_weights(autoencoder_denoise.encoder.get_weights())\n",
    "\n",
    "\n",
    "# Add a classifier on top of the encoder\n",
    "classification_model = tf.keras.Sequential([\n",
    "    pretrain_encoder,\n",
    "    layers.Flatten(),\n",
    "    layers.Dense(128, activation='relu'),\n",
    "    layers.Dropout(0.5),\n",
    "    layers.Dense(10, activation='softmax')\n",
    "])\n",
    "\n",
    "# Train the classifier\n",
    "classification_model.compile(optimizer='adam', loss='sparse_categorical_crossentropy', metrics=['accuracy'])\n",
    "classification_model.fit(x_train, y_train, epochs=10, validation_data=(x_test, y_test))\n",
    "\n",
    "# Evaluate on the test set\n",
    "accuracy = classification_model.evaluate(x_test, y_test)[1]\n",
    "print(\"Test Accuracy:\", accuracy)\n",
    "\n"
   ]
  }
 ],
 "metadata": {
  "kernelspec": {
   "display_name": "Python 3",
   "language": "python",
   "name": "python3"
  },
  "language_info": {
   "codemirror_mode": {
    "name": "ipython",
    "version": 3
   },
   "file_extension": ".py",
   "mimetype": "text/x-python",
   "name": "python",
   "nbconvert_exporter": "python",
   "pygments_lexer": "ipython3",
   "version": "3.11.1"
  }
 },
 "nbformat": 4,
 "nbformat_minor": 2
}
